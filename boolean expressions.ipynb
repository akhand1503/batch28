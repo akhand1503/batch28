{
 "cells": [
  {
   "cell_type": "code",
   "execution_count": 1,
   "metadata": {
    "collapsed": false
   },
   "outputs": [
    {
     "name": "stdout",
     "output_type": "stream",
     "text": [
      "False\n",
      "False\n",
      "True\n",
      "True\n",
      "True\n"
     ]
    }
   ],
   "source": [
    "a=10\n",
    "b=20\n",
    "print a==b\n",
    "print a>=b\n",
    "print a<b\n",
    "print a<=b\n",
    "print a!=b"
   ]
  },
  {
   "cell_type": "code",
   "execution_count": 2,
   "metadata": {
    "collapsed": false
   },
   "outputs": [
    {
     "data": {
      "text/plain": [
       "False"
      ]
     },
     "execution_count": 2,
     "metadata": {},
     "output_type": "execute_result"
    }
   ],
   "source": [
    "bool(a==b)"
   ]
  },
  {
   "cell_type": "code",
   "execution_count": 3,
   "metadata": {
    "collapsed": false
   },
   "outputs": [
    {
     "data": {
      "text/plain": [
       "True"
      ]
     },
     "execution_count": 3,
     "metadata": {},
     "output_type": "execute_result"
    }
   ],
   "source": [
    "bool(a!=b)"
   ]
  },
  {
   "cell_type": "code",
   "execution_count": 4,
   "metadata": {
    "collapsed": false
   },
   "outputs": [
    {
     "data": {
      "text/plain": [
       "True"
      ]
     },
     "execution_count": 4,
     "metadata": {},
     "output_type": "execute_result"
    }
   ],
   "source": [
    "a!=b and a<b"
   ]
  },
  {
   "cell_type": "code",
   "execution_count": 5,
   "metadata": {
    "collapsed": false
   },
   "outputs": [
    {
     "name": "stdout",
     "output_type": "stream",
     "text": [
      "program starting statements\n",
      "eligible for vote\n",
      "eligible to get marriage in india\n",
      "prohram ending statements\n"
     ]
    }
   ],
   "source": [
    "print \"program starting statements\"\n",
    "print \"eligible for vote\"\n",
    "print \"eligible to get marriage in india\"\n",
    "print \"prohram ending statements\""
   ]
  },
  {
   "cell_type": "code",
   "execution_count": 6,
   "metadata": {
    "collapsed": false
   },
   "outputs": [
    {
     "name": "stdout",
     "output_type": "stream",
     "text": [
      "program starting statements\n",
      "eligible for vote\n",
      "prohram ending statements\n"
     ]
    }
   ],
   "source": [
    "print \"program starting statements\"\n",
    "age=19\n",
    "if age>=18:\n",
    "    print \"eligible for vote\"\n",
    "if age>=25:\n",
    "    print \"eligible to get marriage in india\"\n",
    "print \"prohram ending statements\""
   ]
  },
  {
   "cell_type": "code",
   "execution_count": 7,
   "metadata": {
    "collapsed": false
   },
   "outputs": [
    {
     "data": {
      "text/plain": [
       "False"
      ]
     },
     "execution_count": 7,
     "metadata": {},
     "output_type": "execute_result"
    }
   ],
   "source": [
    "age>=25"
   ]
  },
  {
   "cell_type": "code",
   "execution_count": 8,
   "metadata": {
    "collapsed": false
   },
   "outputs": [
    {
     "data": {
      "text/plain": [
       "False"
      ]
     },
     "execution_count": 8,
     "metadata": {},
     "output_type": "execute_result"
    }
   ],
   "source": [
    "bool(age>=25)"
   ]
  },
  {
   "cell_type": "code",
   "execution_count": 9,
   "metadata": {
    "collapsed": false
   },
   "outputs": [
    {
     "data": {
      "text/plain": [
       "False"
      ]
     },
     "execution_count": 9,
     "metadata": {},
     "output_type": "execute_result"
    }
   ],
   "source": [
    "bool(10>20)"
   ]
  },
  {
   "cell_type": "code",
   "execution_count": 10,
   "metadata": {
    "collapsed": false
   },
   "outputs": [
    {
     "data": {
      "text/plain": [
       "False"
      ]
     },
     "execution_count": 10,
     "metadata": {},
     "output_type": "execute_result"
    }
   ],
   "source": [
    "bool(0)"
   ]
  },
  {
   "cell_type": "code",
   "execution_count": 11,
   "metadata": {
    "collapsed": false
   },
   "outputs": [
    {
     "data": {
      "text/plain": [
       "True"
      ]
     },
     "execution_count": 11,
     "metadata": {},
     "output_type": "execute_result"
    }
   ],
   "source": [
    "bool(1)"
   ]
  },
  {
   "cell_type": "code",
   "execution_count": 12,
   "metadata": {
    "collapsed": false
   },
   "outputs": [
    {
     "data": {
      "text/plain": [
       "True"
      ]
     },
     "execution_count": 12,
     "metadata": {},
     "output_type": "execute_result"
    }
   ],
   "source": [
    "bool(-10)"
   ]
  },
  {
   "cell_type": "code",
   "execution_count": 13,
   "metadata": {
    "collapsed": false
   },
   "outputs": [
    {
     "data": {
      "text/plain": [
       "True"
      ]
     },
     "execution_count": 13,
     "metadata": {},
     "output_type": "execute_result"
    }
   ],
   "source": [
    "bool(\"python\")"
   ]
  },
  {
   "cell_type": "code",
   "execution_count": 14,
   "metadata": {
    "collapsed": false
   },
   "outputs": [
    {
     "data": {
      "text/plain": [
       "False"
      ]
     },
     "execution_count": 14,
     "metadata": {},
     "output_type": "execute_result"
    }
   ],
   "source": [
    "bool(\"\")"
   ]
  },
  {
   "cell_type": "code",
   "execution_count": 15,
   "metadata": {
    "collapsed": false
   },
   "outputs": [
    {
     "data": {
      "text/plain": [
       "True"
      ]
     },
     "execution_count": 15,
     "metadata": {},
     "output_type": "execute_result"
    }
   ],
   "source": [
    "bool(\"   \")"
   ]
  },
  {
   "cell_type": "code",
   "execution_count": 16,
   "metadata": {
    "collapsed": false
   },
   "outputs": [
    {
     "data": {
      "text/plain": [
       "True"
      ]
     },
     "execution_count": 16,
     "metadata": {},
     "output_type": "execute_result"
    }
   ],
   "source": [
    "bool(\"0\")"
   ]
  },
  {
   "cell_type": "code",
   "execution_count": 17,
   "metadata": {
    "collapsed": false
   },
   "outputs": [
    {
     "data": {
      "text/plain": [
       "False"
      ]
     },
     "execution_count": 17,
     "metadata": {},
     "output_type": "execute_result"
    }
   ],
   "source": [
    "bool(0)"
   ]
  },
  {
   "cell_type": "code",
   "execution_count": 18,
   "metadata": {
    "collapsed": false
   },
   "outputs": [
    {
     "name": "stdout",
     "output_type": "stream",
     "text": [
      "program starting statements\n",
      "10 is true\n",
      "False is False\n",
      "prohram ending statements\n"
     ]
    }
   ],
   "source": [
    "print \"program starting statements\"\n",
    "age=19\n",
    "if 10:\n",
    "    print \"10 is true\"\n",
    "else:\n",
    "    print \"10 is false\"\n",
    "if False:\n",
    "    print \"False is True \"\n",
    "else:\n",
    "    print \"False is False\"\n",
    "print \"program ending statements\""
   ]
  },
  {
   "cell_type": "code",
   "execution_count": 19,
   "metadata": {
    "collapsed": false
   },
   "outputs": [
    {
     "name": "stdout",
     "output_type": "stream",
     "text": [
      "Enter age: 12\n"
     ]
    }
   ],
   "source": [
    "age=raw_input(\"Enter age: \")"
   ]
  },
  {
   "cell_type": "code",
   "execution_count": 20,
   "metadata": {
    "collapsed": false
   },
   "outputs": [
    {
     "name": "stdout",
     "output_type": "stream",
     "text": [
      "12\n"
     ]
    }
   ],
   "source": [
    "print age"
   ]
  },
  {
   "cell_type": "code",
   "execution_count": 21,
   "metadata": {
    "collapsed": false
   },
   "outputs": [
    {
     "data": {
      "text/plain": [
       "str"
      ]
     },
     "execution_count": 21,
     "metadata": {},
     "output_type": "execute_result"
    }
   ],
   "source": [
    "type(age)"
   ]
  },
  {
   "cell_type": "code",
   "execution_count": 22,
   "metadata": {
    "collapsed": true
   },
   "outputs": [],
   "source": [
    "a=\"12\"\n",
    "b=12"
   ]
  },
  {
   "cell_type": "code",
   "execution_count": 23,
   "metadata": {
    "collapsed": false
   },
   "outputs": [
    {
     "data": {
      "text/plain": [
       "str"
      ]
     },
     "execution_count": 23,
     "metadata": {},
     "output_type": "execute_result"
    }
   ],
   "source": [
    "type(a)"
   ]
  },
  {
   "cell_type": "code",
   "execution_count": 24,
   "metadata": {
    "collapsed": false
   },
   "outputs": [
    {
     "data": {
      "text/plain": [
       "int"
      ]
     },
     "execution_count": 24,
     "metadata": {},
     "output_type": "execute_result"
    }
   ],
   "source": [
    "type(b)"
   ]
  },
  {
   "cell_type": "code",
   "execution_count": 25,
   "metadata": {
    "collapsed": false
   },
   "outputs": [
    {
     "data": {
      "text/plain": [
       "False"
      ]
     },
     "execution_count": 25,
     "metadata": {},
     "output_type": "execute_result"
    }
   ],
   "source": [
    "a==b"
   ]
  },
  {
   "cell_type": "code",
   "execution_count": 26,
   "metadata": {
    "collapsed": false
   },
   "outputs": [
    {
     "data": {
      "text/plain": [
       "True"
      ]
     },
     "execution_count": 26,
     "metadata": {},
     "output_type": "execute_result"
    }
   ],
   "source": [
    "\"apple\"<\"b\""
   ]
  },
  {
   "cell_type": "code",
   "execution_count": 28,
   "metadata": {
    "collapsed": false
   },
   "outputs": [
    {
     "name": "stdout",
     "output_type": "stream",
     "text": [
      "True\n"
     ]
    }
   ],
   "source": [
    "#\"cat\",\"bat\",'apple',\"ant\"\n",
    "# ant, apple,bat,cat\n",
    "#1,2,3,4,5,\n",
    "\n",
    "a=10\n",
    "b=2\n",
    "print a>b"
   ]
  },
  {
   "cell_type": "code",
   "execution_count": 29,
   "metadata": {
    "collapsed": false
   },
   "outputs": [
    {
     "name": "stdout",
     "output_type": "stream",
     "text": [
      "False\n"
     ]
    }
   ],
   "source": [
    "a=10\n",
    "b=\"a\"\n",
    "print a>b"
   ]
  },
  {
   "cell_type": "code",
   "execution_count": 30,
   "metadata": {
    "collapsed": false
   },
   "outputs": [
    {
     "name": "stdout",
     "output_type": "stream",
     "text": [
      "False\n"
     ]
    }
   ],
   "source": [
    "print 20>\"2\""
   ]
  },
  {
   "cell_type": "code",
   "execution_count": 31,
   "metadata": {
    "collapsed": false
   },
   "outputs": [
    {
     "name": "stdout",
     "output_type": "stream",
     "text": [
      "True\n"
     ]
    }
   ],
   "source": [
    "print \"2\">200"
   ]
  },
  {
   "cell_type": "code",
   "execution_count": 32,
   "metadata": {
    "collapsed": false
   },
   "outputs": [
    {
     "name": "stdout",
     "output_type": "stream",
     "text": [
      "True\n"
     ]
    }
   ],
   "source": [
    "print \"apple\">200000000"
   ]
  },
  {
   "cell_type": "code",
   "execution_count": 33,
   "metadata": {
    "collapsed": false
   },
   "outputs": [
    {
     "name": "stdout",
     "output_type": "stream",
     "text": [
      "True\n"
     ]
    }
   ],
   "source": [
    "print \"1\">10000000"
   ]
  },
  {
   "cell_type": "code",
   "execution_count": 34,
   "metadata": {
    "collapsed": false
   },
   "outputs": [
    {
     "name": "stdout",
     "output_type": "stream",
     "text": [
      "Enter a value:200\n",
      "greater than 100\n"
     ]
    }
   ],
   "source": [
    "a=raw_input(\"Enter a value:\")\n",
    "if a>100:\n",
    "    print \"greater than 100\"\n",
    "else:\n",
    "    print \"lessthan 100\""
   ]
  },
  {
   "cell_type": "code",
   "execution_count": 35,
   "metadata": {
    "collapsed": false
   },
   "outputs": [
    {
     "name": "stdout",
     "output_type": "stream",
     "text": [
      "Enter a value:1\n",
      "greater than 100\n"
     ]
    }
   ],
   "source": [
    "a=raw_input(\"Enter a value:\")\n",
    "if a>100:\n",
    "    print \"greater than 100\"\n",
    "else:\n",
    "    print \"lessthan 100\""
   ]
  },
  {
   "cell_type": "code",
   "execution_count": 36,
   "metadata": {
    "collapsed": false
   },
   "outputs": [
    {
     "name": "stdout",
     "output_type": "stream",
     "text": [
      "Enter a value:200\n",
      "greater than 100\n"
     ]
    }
   ],
   "source": [
    "a=raw_input(\"Enter a value:\")\n",
    "a=int(a)\n",
    "if a>100:\n",
    "    print \"greater than 100\"\n",
    "else:\n",
    "    print \"lessthan 100\""
   ]
  },
  {
   "cell_type": "code",
   "execution_count": 37,
   "metadata": {
    "collapsed": false
   },
   "outputs": [
    {
     "name": "stdout",
     "output_type": "stream",
     "text": [
      "Enter a value:1\n",
      "lessthan 100\n"
     ]
    }
   ],
   "source": [
    "a=raw_input(\"Enter a value:\")\n",
    "a=int(a)\n",
    "if a>100:\n",
    "    print \"greater than 100\"\n",
    "else:\n",
    "    print \"lessthan 100\""
   ]
  },
  {
   "cell_type": "code",
   "execution_count": 38,
   "metadata": {
    "collapsed": false
   },
   "outputs": [
    {
     "name": "stdout",
     "output_type": "stream",
     "text": [
      "True\n"
     ]
    }
   ],
   "source": [
    "a=12\n",
    "b=12.0\n",
    "print a==b"
   ]
  },
  {
   "cell_type": "code",
   "execution_count": 39,
   "metadata": {
    "collapsed": false
   },
   "outputs": [
    {
     "name": "stdout",
     "output_type": "stream",
     "text": [
      "True\n"
     ]
    }
   ],
   "source": [
    "a=1+2j\n",
    "b=1+2j\n",
    "print a==b"
   ]
  },
  {
   "cell_type": "code",
   "execution_count": 40,
   "metadata": {
    "collapsed": false
   },
   "outputs": [
    {
     "name": "stdout",
     "output_type": "stream",
     "text": [
      "True\n"
     ]
    }
   ],
   "source": [
    "a=1+0j\n",
    "b=1\n",
    "print a==b"
   ]
  },
  {
   "cell_type": "code",
   "execution_count": 41,
   "metadata": {
    "collapsed": false
   },
   "outputs": [
    {
     "name": "stdout",
     "output_type": "stream",
     "text": [
      "(1+0j)\n"
     ]
    }
   ],
   "source": [
    "print complex(b)"
   ]
  },
  {
   "cell_type": "code",
   "execution_count": 42,
   "metadata": {
    "collapsed": false
   },
   "outputs": [
    {
     "name": "stdout",
     "output_type": "stream",
     "text": [
      "False\n"
     ]
    }
   ],
   "source": [
    "print 12==\"12\""
   ]
  },
  {
   "cell_type": "code",
   "execution_count": 44,
   "metadata": {
    "collapsed": false
   },
   "outputs": [
    {
     "name": "stdout",
     "output_type": "stream",
     "text": [
      "True\n"
     ]
    }
   ],
   "source": [
    "print 1+0j==1"
   ]
  },
  {
   "cell_type": "code",
   "execution_count": 45,
   "metadata": {
    "collapsed": false
   },
   "outputs": [
    {
     "name": "stdout",
     "output_type": "stream",
     "text": [
      "True\n"
     ]
    }
   ],
   "source": [
    "print 12.000==12"
   ]
  },
  {
   "cell_type": "code",
   "execution_count": 46,
   "metadata": {
    "collapsed": false
   },
   "outputs": [
    {
     "name": "stdout",
     "output_type": "stream",
     "text": [
      "False\n"
     ]
    }
   ],
   "source": [
    "print 12.34 == 12"
   ]
  },
  {
   "cell_type": "code",
   "execution_count": 51,
   "metadata": {
    "collapsed": true
   },
   "outputs": [],
   "source": [
    "a=1223456778890034324234324234"
   ]
  },
  {
   "cell_type": "code",
   "execution_count": 52,
   "metadata": {
    "collapsed": false
   },
   "outputs": [
    {
     "data": {
      "text/plain": [
       "long"
      ]
     },
     "execution_count": 52,
     "metadata": {},
     "output_type": "execute_result"
    }
   ],
   "source": [
    "type(a)"
   ]
  },
  {
   "cell_type": "code",
   "execution_count": 53,
   "metadata": {
    "collapsed": false
   },
   "outputs": [
    {
     "name": "stdout",
     "output_type": "stream",
     "text": [
      "10000000000000000000000000000000000000000000000000000000000000000000000000000000000000000000000000000\n"
     ]
    }
   ],
   "source": [
    "print 10**100"
   ]
  },
  {
   "cell_type": "code",
   "execution_count": 54,
   "metadata": {
    "collapsed": true
   },
   "outputs": [],
   "source": [
    "name=\"Anil\"\n",
    "age=23\n",
    "height=5.6"
   ]
  },
  {
   "cell_type": "code",
   "execution_count": 55,
   "metadata": {
    "collapsed": false
   },
   "outputs": [
    {
     "name": "stdout",
     "output_type": "stream",
     "text": [
      "Name: Anil\n"
     ]
    }
   ],
   "source": [
    "# Name: Anil, Age: 23, Height: 5.6\n",
    "print \"Name:\",name"
   ]
  },
  {
   "cell_type": "code",
   "execution_count": 56,
   "metadata": {
    "collapsed": true
   },
   "outputs": [],
   "source": [
    "s=\"Name:\"+name"
   ]
  },
  {
   "cell_type": "code",
   "execution_count": 57,
   "metadata": {
    "collapsed": false
   },
   "outputs": [
    {
     "data": {
      "text/plain": [
       "'Name:Anil'"
      ]
     },
     "execution_count": 57,
     "metadata": {},
     "output_type": "execute_result"
    }
   ],
   "source": [
    "s"
   ]
  },
  {
   "cell_type": "code",
   "execution_count": 58,
   "metadata": {
    "collapsed": false
   },
   "outputs": [
    {
     "name": "stdout",
     "output_type": "stream",
     "text": [
      "Name:Anil\n"
     ]
    }
   ],
   "source": [
    "print s"
   ]
  },
  {
   "cell_type": "code",
   "execution_count": 59,
   "metadata": {
    "collapsed": false
   },
   "outputs": [
    {
     "name": "stdout",
     "output_type": "stream",
     "text": [
      "Name:Anil\n"
     ]
    }
   ],
   "source": [
    "print \"Name:\"+name"
   ]
  },
  {
   "cell_type": "code",
   "execution_count": 60,
   "metadata": {
    "collapsed": false
   },
   "outputs": [
    {
     "name": "stdout",
     "output_type": "stream",
     "text": [
      "Name: Anil Age: 23 Height: 5.6\n"
     ]
    }
   ],
   "source": [
    "# Name: Anil, Age: 23, Height: 5.6\n",
    "name=\"Anil\"\n",
    "age=23\n",
    "height=5.6\n",
    "print \"Name:\",name,\"Age:\",age,\"Height:\",height"
   ]
  },
  {
   "cell_type": "code",
   "execution_count": 61,
   "metadata": {
    "collapsed": false
   },
   "outputs": [
    {
     "name": "stdout",
     "output_type": "stream",
     "text": [
      "Name: Anil\n"
     ]
    }
   ],
   "source": [
    "# Name: Anil, Age: 23, Height: 5.6\n",
    "name=\"Anil\"\n",
    "age=23\n",
    "height=5.6\n",
    "print \"Name:\",name"
   ]
  },
  {
   "cell_type": "code",
   "execution_count": 62,
   "metadata": {
    "collapsed": false
   },
   "outputs": [
    {
     "name": "stdout",
     "output_type": "stream",
     "text": [
      "Name: Anil ,\n"
     ]
    }
   ],
   "source": [
    "# Name: Anil, Age: 23, Height: 5.6\n",
    "name=\"Anil\"\n",
    "age=23\n",
    "height=5.6\n",
    "print \"Name:\",name,\",\""
   ]
  },
  {
   "cell_type": "code",
   "execution_count": 63,
   "metadata": {
    "collapsed": false
   },
   "outputs": [
    {
     "ename": "SyntaxError",
     "evalue": "invalid syntax (<ipython-input-63-07e516ff4d26>, line 5)",
     "output_type": "error",
     "traceback": [
      "\u001b[0;36m  File \u001b[0;32m\"<ipython-input-63-07e516ff4d26>\"\u001b[0;36m, line \u001b[0;32m5\u001b[0m\n\u001b[0;31m    print \"Name:\",name\",\"\u001b[0m\n\u001b[0m                        ^\u001b[0m\n\u001b[0;31mSyntaxError\u001b[0m\u001b[0;31m:\u001b[0m invalid syntax\n"
     ]
    }
   ],
   "source": [
    "# Name: Anil, Age: 23, Height: 5.6\n",
    "name=\"Anil\"\n",
    "age=23\n",
    "height=5.6\n",
    "print \"Name:\",name\",\""
   ]
  },
  {
   "cell_type": "code",
   "execution_count": 64,
   "metadata": {
    "collapsed": false
   },
   "outputs": [
    {
     "name": "stdout",
     "output_type": "stream",
     "text": [
      "Name: Anil,\n"
     ]
    }
   ],
   "source": [
    "# Name: Anil, Age: 23, Height: 5.6\n",
    "name=\"Anil\"\n",
    "age=23\n",
    "height=5.6\n",
    "print \"Name:\",name+\",\""
   ]
  },
  {
   "cell_type": "code",
   "execution_count": 65,
   "metadata": {
    "collapsed": false
   },
   "outputs": [
    {
     "name": "stdout",
     "output_type": "stream",
     "text": [
      "Name: Anil , Age: 23 , Height: 5.6\n"
     ]
    }
   ],
   "source": [
    "# Name: Anil, Age: 23, Height: 5.6\n",
    "name=\"Anil\"\n",
    "age=23\n",
    "height=5.6\n",
    "print \"Name:\",name,\", Age:\",age,\", Height:\",height"
   ]
  },
  {
   "cell_type": "code",
   "execution_count": 66,
   "metadata": {
    "collapsed": false
   },
   "outputs": [
    {
     "name": "stdout",
     "output_type": "stream",
     "text": [
      "Name: Anil, Age:"
     ]
    },
    {
     "ename": "TypeError",
     "evalue": "unsupported operand type(s) for +: 'int' and 'str'",
     "output_type": "error",
     "traceback": [
      "\u001b[0;31m---------------------------------------------------------------------------\u001b[0m",
      "\u001b[0;31mTypeError\u001b[0m                                 Traceback (most recent call last)",
      "\u001b[0;32m<ipython-input-66-6824655fd337>\u001b[0m in \u001b[0;36m<module>\u001b[0;34m()\u001b[0m\n\u001b[1;32m      3\u001b[0m \u001b[0mage\u001b[0m\u001b[0;34m=\u001b[0m\u001b[0;36m23\u001b[0m\u001b[0;34m\u001b[0m\u001b[0m\n\u001b[1;32m      4\u001b[0m \u001b[0mheight\u001b[0m\u001b[0;34m=\u001b[0m\u001b[0;36m5.6\u001b[0m\u001b[0;34m\u001b[0m\u001b[0m\n\u001b[0;32m----> 5\u001b[0;31m \u001b[0;32mprint\u001b[0m \u001b[0;34m\"Name:\"\u001b[0m\u001b[0;34m,\u001b[0m\u001b[0mname\u001b[0m\u001b[0;34m+\u001b[0m\u001b[0;34m\", Age:\"\u001b[0m\u001b[0;34m,\u001b[0m\u001b[0mage\u001b[0m\u001b[0;34m+\u001b[0m\u001b[0;34m\", Height:\"\u001b[0m\u001b[0;34m,\u001b[0m\u001b[0mheight\u001b[0m\u001b[0;34m\u001b[0m\u001b[0m\n\u001b[0m",
      "\u001b[0;31mTypeError\u001b[0m: unsupported operand type(s) for +: 'int' and 'str'"
     ]
    }
   ],
   "source": [
    "# Name: Anil, Age: 23, Height: 5.6\n",
    "name=\"Anil\"\n",
    "age=23\n",
    "height=5.6\n",
    "print \"Name:\",name+\", Age:\",age+\", Height:\",height"
   ]
  },
  {
   "cell_type": "code",
   "execution_count": 67,
   "metadata": {
    "collapsed": false
   },
   "outputs": [
    {
     "name": "stdout",
     "output_type": "stream",
     "text": [
      " str1str2\n"
     ]
    }
   ],
   "source": [
    "print \"str1\"+\"str2\""
   ]
  },
  {
   "cell_type": "code",
   "execution_count": 68,
   "metadata": {
    "collapsed": false
   },
   "outputs": [
    {
     "ename": "SyntaxError",
     "evalue": "invalid syntax (<ipython-input-68-2befbd649ca6>, line 1)",
     "output_type": "error",
     "traceback": [
      "\u001b[0;36m  File \u001b[0;32m\"<ipython-input-68-2befbd649ca6>\"\u001b[0;36m, line \u001b[0;32m1\u001b[0m\n\u001b[0;31m    print \"product cost\":+20\u001b[0m\n\u001b[0m                        ^\u001b[0m\n\u001b[0;31mSyntaxError\u001b[0m\u001b[0;31m:\u001b[0m invalid syntax\n"
     ]
    }
   ],
   "source": [
    "print \"product cost\":+20"
   ]
  },
  {
   "cell_type": "code",
   "execution_count": 69,
   "metadata": {
    "collapsed": false
   },
   "outputs": [
    {
     "name": "stdout",
     "output_type": "stream",
     "text": [
      "product cost:20\n"
     ]
    }
   ],
   "source": [
    "print \"product cost:\"+\"20\""
   ]
  },
  {
   "cell_type": "code",
   "execution_count": 70,
   "metadata": {
    "collapsed": false
   },
   "outputs": [
    {
     "name": "stdout",
     "output_type": "stream",
     "text": [
      "Name: Anil, Age:"
     ]
    },
    {
     "ename": "TypeError",
     "evalue": "unsupported operand type(s) for +: 'int' and 'str'",
     "output_type": "error",
     "traceback": [
      "\u001b[0;31m---------------------------------------------------------------------------\u001b[0m",
      "\u001b[0;31mTypeError\u001b[0m                                 Traceback (most recent call last)",
      "\u001b[0;32m<ipython-input-70-6824655fd337>\u001b[0m in \u001b[0;36m<module>\u001b[0;34m()\u001b[0m\n\u001b[1;32m      3\u001b[0m \u001b[0mage\u001b[0m\u001b[0;34m=\u001b[0m\u001b[0;36m23\u001b[0m\u001b[0;34m\u001b[0m\u001b[0m\n\u001b[1;32m      4\u001b[0m \u001b[0mheight\u001b[0m\u001b[0;34m=\u001b[0m\u001b[0;36m5.6\u001b[0m\u001b[0;34m\u001b[0m\u001b[0m\n\u001b[0;32m----> 5\u001b[0;31m \u001b[0;32mprint\u001b[0m \u001b[0;34m\"Name:\"\u001b[0m\u001b[0;34m,\u001b[0m\u001b[0mname\u001b[0m\u001b[0;34m+\u001b[0m\u001b[0;34m\", Age:\"\u001b[0m\u001b[0;34m,\u001b[0m\u001b[0mage\u001b[0m\u001b[0;34m+\u001b[0m\u001b[0;34m\", Height:\"\u001b[0m\u001b[0;34m,\u001b[0m\u001b[0mheight\u001b[0m\u001b[0;34m\u001b[0m\u001b[0m\n\u001b[0m",
      "\u001b[0;31mTypeError\u001b[0m: unsupported operand type(s) for +: 'int' and 'str'"
     ]
    }
   ],
   "source": [
    "# Name: Anil, Age: 23, Height: 5.6\n",
    "name=\"Anil\"\n",
    "age=23\n",
    "height=5.6\n",
    "print \"Name:\",name+\", Age:\",age+\", Height:\",height"
   ]
  },
  {
   "cell_type": "code",
   "execution_count": 71,
   "metadata": {
    "collapsed": false
   },
   "outputs": [
    {
     "name": "stdout",
     "output_type": "stream",
     "text": [
      " Name: Anil, Age: 23, Height: 5.6\n"
     ]
    }
   ],
   "source": [
    "# Name: Anil, Age: 23, Height: 5.6\n",
    "name=\"Anil\"\n",
    "age=23\n",
    "height=5.6\n",
    "print \"Name:\",name+\", Age:\",str(age)+\", Height:\",height"
   ]
  },
  {
   "cell_type": "code",
   "execution_count": 72,
   "metadata": {
    "collapsed": false
   },
   "outputs": [
    {
     "name": "stdout",
     "output_type": "stream",
     "text": [
      "line1\n",
      "line2\n"
     ]
    }
   ],
   "source": [
    "print \"line1\"\n",
    "print \"line2\""
   ]
  },
  {
   "cell_type": "code",
   "execution_count": 73,
   "metadata": {
    "collapsed": false
   },
   "outputs": [
    {
     "name": "stdout",
     "output_type": "stream",
     "text": [
      "liine1\n",
      "line2\n"
     ]
    }
   ],
   "source": [
    "print \"liine1\\nline2\""
   ]
  },
  {
   "cell_type": "code",
   "execution_count": 74,
   "metadata": {
    "collapsed": false
   },
   "outputs": [
    {
     "name": "stdout",
     "output_type": "stream",
     "text": [
      "liine1\tline2\n"
     ]
    }
   ],
   "source": [
    "print \"liine1\\tline2\""
   ]
  },
  {
   "cell_type": "code",
   "execution_count": 75,
   "metadata": {
    "collapsed": false
   },
   "outputs": [
    {
     "name": "stdout",
     "output_type": "stream",
     "text": [
      "line1 \n",
      " line2 \t tabspace dsfdsf \n",
      " sdfsdf\t \n",
      "sdfdsfsdfs\n"
     ]
    }
   ],
   "source": [
    "print \"line1 \\n line2 \\t tabspace dsfdsf \\n sdfsdf\\t \\nsdfdsfsdfs\""
   ]
  },
  {
   "cell_type": "code",
   "execution_count": 76,
   "metadata": {
    "collapsed": false
   },
   "outputs": [
    {
     "name": "stdout",
     "output_type": "stream",
     "text": [
      "line1 \\n line2 \\t tabspace dsfdsf \\n sdfsdf\\t \\nsdfdsfsdfs\n"
     ]
    }
   ],
   "source": [
    "print \"line1 \\\\n line2 \\\\t tabspace dsfdsf \\\\n sdfsdf\\\\t \\\\nsdfdsfsdfs\""
   ]
  },
  {
   "cell_type": "code",
   "execution_count": 77,
   "metadata": {
    "collapsed": false
   },
   "outputs": [
    {
     "name": "stdout",
     "output_type": "stream",
     "text": [
      "line1 \\n line2 \\t tabspace dsfdsf \\n sdfsdf\\t \\nsdfdsfsdfs\n"
     ]
    }
   ],
   "source": [
    "print r\"line1 \\n line2 \\t tabspace dsfdsf \\n sdfsdf\\t \\nsdfdsfsdfs\""
   ]
  },
  {
   "cell_type": "code",
   "execution_count": 78,
   "metadata": {
    "collapsed": false
   },
   "outputs": [
    {
     "name": "stdout",
     "output_type": "stream",
     "text": [
      "it's a hot day\n"
     ]
    }
   ],
   "source": [
    "# it's a hot day\n",
    "print \"it's a hot day\""
   ]
  },
  {
   "cell_type": "code",
   "execution_count": 79,
   "metadata": {
    "collapsed": false
   },
   "outputs": [
    {
     "name": "stdout",
     "output_type": "stream",
     "text": [
      "it\"s a hot day\n"
     ]
    }
   ],
   "source": [
    "# it's a hot day\n",
    "print 'it\"s a hot day'"
   ]
  },
  {
   "cell_type": "code",
   "execution_count": 81,
   "metadata": {
    "collapsed": false
   },
   "outputs": [
    {
     "ename": "SyntaxError",
     "evalue": "invalid syntax (<ipython-input-81-d7d035fdd043>, line 2)",
     "output_type": "error",
     "traceback": [
      "\u001b[0;36m  File \u001b[0;32m\"<ipython-input-81-d7d035fdd043>\"\u001b[0;36m, line \u001b[0;32m2\u001b[0m\n\u001b[0;31m    print 'it's a \"hot\" day'\u001b[0m\n\u001b[0m              ^\u001b[0m\n\u001b[0;31mSyntaxError\u001b[0m\u001b[0;31m:\u001b[0m invalid syntax\n"
     ]
    }
   ],
   "source": [
    "# it's a \"hot\" day\n",
    "print 'it's a \"hot\" day'"
   ]
  },
  {
   "cell_type": "code",
   "execution_count": 82,
   "metadata": {
    "collapsed": false
   },
   "outputs": [
    {
     "name": "stdout",
     "output_type": "stream",
     "text": [
      "it's a \"hot\" day\n"
     ]
    }
   ],
   "source": [
    "# it's a \"hot\" day\n",
    "print 'it\\'s a \"hot\" day'"
   ]
  },
  {
   "cell_type": "code",
   "execution_count": 83,
   "metadata": {
    "collapsed": false
   },
   "outputs": [
    {
     "name": "stdout",
     "output_type": "stream",
     "text": [
      "Enter data: \"hello! it's a good day\"\n"
     ]
    }
   ],
   "source": [
    "a=raw_input(\"Enter data: \")"
   ]
  },
  {
   "cell_type": "code",
   "execution_count": 84,
   "metadata": {
    "collapsed": false
   },
   "outputs": [
    {
     "name": "stdout",
     "output_type": "stream",
     "text": [
      "\"hello! it's a good day\"\n"
     ]
    }
   ],
   "source": [
    "print a"
   ]
  },
  {
   "cell_type": "code",
   "execution_count": 85,
   "metadata": {
    "collapsed": false
   },
   "outputs": [
    {
     "name": "stdout",
     "output_type": "stream",
     "text": [
      "Enter data: 'it's a hot day'\n"
     ]
    }
   ],
   "source": [
    "a=raw_input(\"Enter data: \")"
   ]
  },
  {
   "cell_type": "code",
   "execution_count": 86,
   "metadata": {
    "collapsed": false
   },
   "outputs": [
    {
     "name": "stdout",
     "output_type": "stream",
     "text": [
      "'it's a hot day'\n"
     ]
    }
   ],
   "source": [
    "print a"
   ]
  },
  {
   "cell_type": "code",
   "execution_count": 87,
   "metadata": {
    "collapsed": false
   },
   "outputs": [
    {
     "name": "stdout",
     "output_type": "stream",
     "text": [
      "Enter data: it's hot day\n"
     ]
    }
   ],
   "source": [
    "a=raw_input(\"Enter data: \")"
   ]
  },
  {
   "cell_type": "code",
   "execution_count": 88,
   "metadata": {
    "collapsed": false
   },
   "outputs": [
    {
     "data": {
      "text/plain": [
       "\"it's hot day\""
      ]
     },
     "execution_count": 88,
     "metadata": {},
     "output_type": "execute_result"
    }
   ],
   "source": [
    "a"
   ]
  },
  {
   "cell_type": "code",
   "execution_count": 89,
   "metadata": {
    "collapsed": false
   },
   "outputs": [
    {
     "name": "stdout",
     "output_type": "stream",
     "text": [
      "it's hot day\n"
     ]
    }
   ],
   "source": [
    "print a"
   ]
  },
  {
   "cell_type": "code",
   "execution_count": 90,
   "metadata": {
    "collapsed": false
   },
   "outputs": [
    {
     "name": "stdout",
     "output_type": "stream",
     "text": [
      "14\n"
     ]
    }
   ],
   "source": [
    "s=\"python program\"\n",
    "print len(s)"
   ]
  },
  {
   "cell_type": "code",
   "execution_count": 91,
   "metadata": {
    "collapsed": false
   },
   "outputs": [
    {
     "name": "stdout",
     "output_type": "stream",
     "text": [
      "13\n"
     ]
    }
   ],
   "source": [
    "s=\"pythonprogram\"\n",
    "print len(s)"
   ]
  },
  {
   "cell_type": "code",
   "execution_count": 92,
   "metadata": {
    "collapsed": false
   },
   "outputs": [
    {
     "name": "stdout",
     "output_type": "stream",
     "text": [
      "14\n"
     ]
    }
   ],
   "source": [
    "s=\"python\\nprogram\"\n",
    "print len(s)"
   ]
  },
  {
   "cell_type": "code",
   "execution_count": 93,
   "metadata": {
    "collapsed": false
   },
   "outputs": [
    {
     "name": "stdout",
     "output_type": "stream",
     "text": [
      "15\n"
     ]
    }
   ],
   "source": [
    "s=\"python\\n\\nprogram\"\n",
    "print len(s)"
   ]
  },
  {
   "cell_type": "code",
   "execution_count": 94,
   "metadata": {
    "collapsed": false
   },
   "outputs": [
    {
     "name": "stdout",
     "output_type": "stream",
     "text": [
      "17\n"
     ]
    }
   ],
   "source": [
    "s=\"python\\n\\n\\t\\nprogram\"\n",
    "print len(s)"
   ]
  },
  {
   "cell_type": "code",
   "execution_count": 95,
   "metadata": {
    "collapsed": false
   },
   "outputs": [
    {
     "name": "stdout",
     "output_type": "stream",
     "text": [
      "21\n"
     ]
    }
   ],
   "source": [
    "s=r\"python\\n\\n\\t\\nprogram\"\n",
    "print len(s)"
   ]
  },
  {
   "cell_type": "code",
   "execution_count": 96,
   "metadata": {
    "collapsed": false
   },
   "outputs": [
    {
     "name": "stdout",
     "output_type": "stream",
     "text": [
      "Enter a value:123123\n"
     ]
    }
   ],
   "source": [
    "a=raw_input(\"Enter a value:\")"
   ]
  },
  {
   "cell_type": "raw",
   "metadata": {},
   "source": []
  },
  {
   "cell_type": "code",
   "execution_count": 97,
   "metadata": {
    "collapsed": false
   },
   "outputs": [
    {
     "name": "stdout",
     "output_type": "stream",
     "text": [
      "Enter product cost: 12\n",
      "product cost: 12\n"
     ]
    }
   ],
   "source": [
    "a=raw_input(\"Enter product cost: \")\n",
    "print \"product cost: \"+a"
   ]
  },
  {
   "cell_type": "code",
   "execution_count": 98,
   "metadata": {
    "collapsed": false
   },
   "outputs": [
    {
     "name": "stdout",
     "output_type": "stream",
     "text": [
      "Enter product cost: 12.34\n",
      "product cost: 12.34\n"
     ]
    }
   ],
   "source": [
    "a=raw_input(\"Enter product cost: \")\n",
    "print \"product cost: \"+a"
   ]
  },
  {
   "cell_type": "code",
   "execution_count": 99,
   "metadata": {
    "collapsed": false
   },
   "outputs": [
    {
     "name": "stdout",
     "output_type": "stream",
     "text": [
      "Enter product cost: 12\n",
      "product cost: 12\n"
     ]
    }
   ],
   "source": [
    "a=raw_input(\"Enter product cost: \")\n",
    "print \"product cost: \"+a"
   ]
  },
  {
   "cell_type": "code",
   "execution_count": 100,
   "metadata": {
    "collapsed": false
   },
   "outputs": [
    {
     "name": "stdout",
     "output_type": "stream",
     "text": [
      "Enter product cost: 12\n",
      "12\n",
      "<type 'int'>\n"
     ]
    },
    {
     "ename": "TypeError",
     "evalue": "cannot concatenate 'str' and 'int' objects",
     "output_type": "error",
     "traceback": [
      "\u001b[0;31m---------------------------------------------------------------------------\u001b[0m",
      "\u001b[0;31mTypeError\u001b[0m                                 Traceback (most recent call last)",
      "\u001b[0;32m<ipython-input-100-62805def8d68>\u001b[0m in \u001b[0;36m<module>\u001b[0;34m()\u001b[0m\n\u001b[1;32m      2\u001b[0m \u001b[0;32mprint\u001b[0m \u001b[0ma\u001b[0m\u001b[0;34m\u001b[0m\u001b[0m\n\u001b[1;32m      3\u001b[0m \u001b[0;32mprint\u001b[0m \u001b[0mtype\u001b[0m\u001b[0;34m(\u001b[0m\u001b[0ma\u001b[0m\u001b[0;34m)\u001b[0m\u001b[0;34m\u001b[0m\u001b[0m\n\u001b[0;32m----> 4\u001b[0;31m \u001b[0;32mprint\u001b[0m \u001b[0;34m\"product cost: \"\u001b[0m\u001b[0;34m+\u001b[0m\u001b[0ma\u001b[0m\u001b[0;34m\u001b[0m\u001b[0m\n\u001b[0m",
      "\u001b[0;31mTypeError\u001b[0m: cannot concatenate 'str' and 'int' objects"
     ]
    }
   ],
   "source": [
    "a=input(\"Enter product cost: \")\n",
    "print a\n",
    "print type(a)\n",
    "print \"product cost: \"+a"
   ]
  },
  {
   "cell_type": "code",
   "execution_count": 101,
   "metadata": {
    "collapsed": false
   },
   "outputs": [
    {
     "name": "stdout",
     "output_type": "stream",
     "text": [
      "Enter product cost: 12.34\n",
      "12.34\n",
      "<type 'float'>\n"
     ]
    },
    {
     "ename": "TypeError",
     "evalue": "cannot concatenate 'str' and 'float' objects",
     "output_type": "error",
     "traceback": [
      "\u001b[0;31m---------------------------------------------------------------------------\u001b[0m",
      "\u001b[0;31mTypeError\u001b[0m                                 Traceback (most recent call last)",
      "\u001b[0;32m<ipython-input-101-62805def8d68>\u001b[0m in \u001b[0;36m<module>\u001b[0;34m()\u001b[0m\n\u001b[1;32m      2\u001b[0m \u001b[0;32mprint\u001b[0m \u001b[0ma\u001b[0m\u001b[0;34m\u001b[0m\u001b[0m\n\u001b[1;32m      3\u001b[0m \u001b[0;32mprint\u001b[0m \u001b[0mtype\u001b[0m\u001b[0;34m(\u001b[0m\u001b[0ma\u001b[0m\u001b[0;34m)\u001b[0m\u001b[0;34m\u001b[0m\u001b[0m\n\u001b[0;32m----> 4\u001b[0;31m \u001b[0;32mprint\u001b[0m \u001b[0;34m\"product cost: \"\u001b[0m\u001b[0;34m+\u001b[0m\u001b[0ma\u001b[0m\u001b[0;34m\u001b[0m\u001b[0m\n\u001b[0m",
      "\u001b[0;31mTypeError\u001b[0m: cannot concatenate 'str' and 'float' objects"
     ]
    }
   ],
   "source": [
    "a=input(\"Enter product cost: \")\n",
    "print a\n",
    "print type(a)\n",
    "print \"product cost: \"+a"
   ]
  },
  {
   "cell_type": "code",
   "execution_count": 102,
   "metadata": {
    "collapsed": false
   },
   "outputs": [
    {
     "name": "stdout",
     "output_type": "stream",
     "text": [
      "Enter product cost: 1,2,3,4\n",
      "(1, 2, 3, 4)\n",
      "<type 'tuple'>\n"
     ]
    },
    {
     "ename": "TypeError",
     "evalue": "cannot concatenate 'str' and 'tuple' objects",
     "output_type": "error",
     "traceback": [
      "\u001b[0;31m---------------------------------------------------------------------------\u001b[0m",
      "\u001b[0;31mTypeError\u001b[0m                                 Traceback (most recent call last)",
      "\u001b[0;32m<ipython-input-102-62805def8d68>\u001b[0m in \u001b[0;36m<module>\u001b[0;34m()\u001b[0m\n\u001b[1;32m      2\u001b[0m \u001b[0;32mprint\u001b[0m \u001b[0ma\u001b[0m\u001b[0;34m\u001b[0m\u001b[0m\n\u001b[1;32m      3\u001b[0m \u001b[0;32mprint\u001b[0m \u001b[0mtype\u001b[0m\u001b[0;34m(\u001b[0m\u001b[0ma\u001b[0m\u001b[0;34m)\u001b[0m\u001b[0;34m\u001b[0m\u001b[0m\n\u001b[0;32m----> 4\u001b[0;31m \u001b[0;32mprint\u001b[0m \u001b[0;34m\"product cost: \"\u001b[0m\u001b[0;34m+\u001b[0m\u001b[0ma\u001b[0m\u001b[0;34m\u001b[0m\u001b[0m\n\u001b[0m",
      "\u001b[0;31mTypeError\u001b[0m: cannot concatenate 'str' and 'tuple' objects"
     ]
    }
   ],
   "source": [
    "a=input(\"Enter product cost: \")\n",
    "print a\n",
    "print type(a)\n",
    "print \"product cost: \"+a"
   ]
  },
  {
   "cell_type": "code",
   "execution_count": 103,
   "metadata": {
    "collapsed": false
   },
   "outputs": [
    {
     "name": "stdout",
     "output_type": "stream",
     "text": [
      "Enter product cost: 1+2j\n",
      "(1+2j)\n",
      "<type 'complex'>\n"
     ]
    },
    {
     "ename": "TypeError",
     "evalue": "cannot concatenate 'str' and 'complex' objects",
     "output_type": "error",
     "traceback": [
      "\u001b[0;31m---------------------------------------------------------------------------\u001b[0m",
      "\u001b[0;31mTypeError\u001b[0m                                 Traceback (most recent call last)",
      "\u001b[0;32m<ipython-input-103-62805def8d68>\u001b[0m in \u001b[0;36m<module>\u001b[0;34m()\u001b[0m\n\u001b[1;32m      2\u001b[0m \u001b[0;32mprint\u001b[0m \u001b[0ma\u001b[0m\u001b[0;34m\u001b[0m\u001b[0m\n\u001b[1;32m      3\u001b[0m \u001b[0;32mprint\u001b[0m \u001b[0mtype\u001b[0m\u001b[0;34m(\u001b[0m\u001b[0ma\u001b[0m\u001b[0;34m)\u001b[0m\u001b[0;34m\u001b[0m\u001b[0m\n\u001b[0;32m----> 4\u001b[0;31m \u001b[0;32mprint\u001b[0m \u001b[0;34m\"product cost: \"\u001b[0m\u001b[0;34m+\u001b[0m\u001b[0ma\u001b[0m\u001b[0;34m\u001b[0m\u001b[0m\n\u001b[0m",
      "\u001b[0;31mTypeError\u001b[0m: cannot concatenate 'str' and 'complex' objects"
     ]
    }
   ],
   "source": [
    "a=input(\"Enter product cost: \")\n",
    "print a\n",
    "print type(a)\n",
    "print \"product cost: \"+a"
   ]
  },
  {
   "cell_type": "code",
   "execution_count": 104,
   "metadata": {
    "collapsed": false
   },
   "outputs": [
    {
     "name": "stdout",
     "output_type": "stream",
     "text": [
      "Enter adhar: 21345-2056dsdfgdh\n"
     ]
    },
    {
     "ename": "SyntaxError",
     "evalue": "unexpected EOF while parsing (<string>, line 1)",
     "output_type": "error",
     "traceback": [
      "\u001b[0;36m  File \u001b[0;32m\"<string>\"\u001b[0;36m, line \u001b[0;32m1\u001b[0m\n\u001b[0;31m    21345-2056dsdfgdh\u001b[0m\n\u001b[0m                    ^\u001b[0m\n\u001b[0;31mSyntaxError\u001b[0m\u001b[0;31m:\u001b[0m unexpected EOF while parsing\n"
     ]
    }
   ],
   "source": [
    "a=input(\"Enter adhar: \")"
   ]
  },
  {
   "cell_type": "code",
   "execution_count": 105,
   "metadata": {
    "collapsed": false
   },
   "outputs": [
    {
     "name": "stdout",
     "output_type": "stream",
     "text": [
      "Enter adhar: python\n"
     ]
    },
    {
     "ename": "NameError",
     "evalue": "name 'python' is not defined",
     "output_type": "error",
     "traceback": [
      "\u001b[0;31m---------------------------------------------------------------------------\u001b[0m",
      "\u001b[0;31mNameError\u001b[0m                                 Traceback (most recent call last)",
      "\u001b[0;32m<ipython-input-105-6933e2634904>\u001b[0m in \u001b[0;36m<module>\u001b[0;34m()\u001b[0m\n\u001b[0;32m----> 1\u001b[0;31m \u001b[0ma\u001b[0m\u001b[0;34m=\u001b[0m\u001b[0minput\u001b[0m\u001b[0;34m(\u001b[0m\u001b[0;34m\"Enter adhar: \"\u001b[0m\u001b[0;34m)\u001b[0m\u001b[0;34m\u001b[0m\u001b[0m\n\u001b[0m",
      "\u001b[0;32m/home/tcloudost/Downloads/yes/lib/python2.7/site-packages/ipykernel/ipkernel.pyc\u001b[0m in \u001b[0;36m<lambda>\u001b[0;34m(prompt)\u001b[0m\n\u001b[1;32m    162\u001b[0m             \u001b[0mself\u001b[0m\u001b[0;34m.\u001b[0m\u001b[0m_sys_eval_input\u001b[0m \u001b[0;34m=\u001b[0m \u001b[0mbuiltin_mod\u001b[0m\u001b[0;34m.\u001b[0m\u001b[0minput\u001b[0m\u001b[0;34m\u001b[0m\u001b[0m\n\u001b[1;32m    163\u001b[0m             \u001b[0mbuiltin_mod\u001b[0m\u001b[0;34m.\u001b[0m\u001b[0mraw_input\u001b[0m \u001b[0;34m=\u001b[0m \u001b[0mself\u001b[0m\u001b[0;34m.\u001b[0m\u001b[0mraw_input\u001b[0m\u001b[0;34m\u001b[0m\u001b[0m\n\u001b[0;32m--> 164\u001b[0;31m             \u001b[0mbuiltin_mod\u001b[0m\u001b[0;34m.\u001b[0m\u001b[0minput\u001b[0m \u001b[0;34m=\u001b[0m \u001b[0;32mlambda\u001b[0m \u001b[0mprompt\u001b[0m\u001b[0;34m=\u001b[0m\u001b[0;34m''\u001b[0m\u001b[0;34m:\u001b[0m \u001b[0meval\u001b[0m\u001b[0;34m(\u001b[0m\u001b[0mself\u001b[0m\u001b[0;34m.\u001b[0m\u001b[0mraw_input\u001b[0m\u001b[0;34m(\u001b[0m\u001b[0mprompt\u001b[0m\u001b[0;34m)\u001b[0m\u001b[0;34m)\u001b[0m\u001b[0;34m\u001b[0m\u001b[0m\n\u001b[0m\u001b[1;32m    165\u001b[0m         \u001b[0mself\u001b[0m\u001b[0;34m.\u001b[0m\u001b[0m_save_getpass\u001b[0m \u001b[0;34m=\u001b[0m \u001b[0mgetpass\u001b[0m\u001b[0;34m.\u001b[0m\u001b[0mgetpass\u001b[0m\u001b[0;34m\u001b[0m\u001b[0m\n\u001b[1;32m    166\u001b[0m         \u001b[0mgetpass\u001b[0m\u001b[0;34m.\u001b[0m\u001b[0mgetpass\u001b[0m \u001b[0;34m=\u001b[0m \u001b[0mself\u001b[0m\u001b[0;34m.\u001b[0m\u001b[0mgetpass\u001b[0m\u001b[0;34m\u001b[0m\u001b[0m\n",
      "\u001b[0;32m/home/tcloudost/Downloads/yes/lib/python2.7/site-packages/ipykernel/ipkernel.pyc\u001b[0m in \u001b[0;36m<module>\u001b[0;34m()\u001b[0m\n",
      "\u001b[0;31mNameError\u001b[0m: name 'python' is not defined"
     ]
    }
   ],
   "source": [
    "a=input(\"Enter adhar: \")"
   ]
  },
  {
   "cell_type": "code",
   "execution_count": 108,
   "metadata": {
    "collapsed": false
   },
   "outputs": [
    {
     "name": "stdout",
     "output_type": "stream",
     "text": [
      "Enter adhar: \"python\"\n"
     ]
    }
   ],
   "source": [
    "a=input(\"Enter adhar: \")"
   ]
  },
  {
   "cell_type": "code",
   "execution_count": 109,
   "metadata": {
    "collapsed": false
   },
   "outputs": [
    {
     "name": "stdout",
     "output_type": "stream",
     "text": [
      "python\n"
     ]
    }
   ],
   "source": [
    "print a"
   ]
  },
  {
   "cell_type": "code",
   "execution_count": 110,
   "metadata": {
    "collapsed": false
   },
   "outputs": [
    {
     "name": "stdout",
     "output_type": "stream",
     "text": [
      "Name: Anil, Age: 23, Height: 5.6\n"
     ]
    }
   ],
   "source": [
    "# Name: Anil, Age: 23, Height: 5.6\n",
    "name=\"Anil\"\n",
    "age=23\n",
    "height=5.6\n",
    "print \"Name:\",name+\", Age:\",str(age)+\", Height:\",height"
   ]
  },
  {
   "cell_type": "code",
   "execution_count": 111,
   "metadata": {
    "collapsed": false
   },
   "outputs": [
    {
     "name": "stdout",
     "output_type": "stream",
     "text": [
      "%x 1234\n"
     ]
    }
   ],
   "source": [
    "# for mat specifiers\n",
    "# %s, %d, %f, %x, %o\n",
    "a=1234\n",
    "print \"%x\",a"
   ]
  },
  {
   "cell_type": "code",
   "execution_count": 112,
   "metadata": {
    "collapsed": false
   },
   "outputs": [
    {
     "name": "stdout",
     "output_type": "stream",
     "text": [
      "4d2\n"
     ]
    }
   ],
   "source": [
    "# for mat specifiers\n",
    "# %s, %d, %f, %x, %o\n",
    "a=1234\n",
    "print \"%x\"%a"
   ]
  },
  {
   "cell_type": "code",
   "execution_count": 113,
   "metadata": {
    "collapsed": false
   },
   "outputs": [
    {
     "name": "stdout",
     "output_type": "stream",
     "text": [
      "4D2\n"
     ]
    }
   ],
   "source": [
    "# for mat specifiers\n",
    "# %s, %d, %f, %x, %o\n",
    "a=1234\n",
    "print \"%X\"%a"
   ]
  },
  {
   "cell_type": "code",
   "execution_count": 114,
   "metadata": {
    "collapsed": false
   },
   "outputs": [
    {
     "name": "stdout",
     "output_type": "stream",
     "text": [
      "Name: Anil, Age: 23, Height: 5.6\n",
      "Name: Anil, Age: 23, Height: 5.6\n"
     ]
    }
   ],
   "source": [
    "# Name: Anil, Age: 23, Height: 5.6\n",
    "name=\"Anil\"\n",
    "age=23\n",
    "height=5.6\n",
    "print \"Name: %s, Age: %s, Height: %s\"%(name,age,height)\n",
    "print \"Name:\",name+\", Age:\",str(age)+\", Height:\",height"
   ]
  },
  {
   "cell_type": "code",
   "execution_count": 115,
   "metadata": {
    "collapsed": true
   },
   "outputs": [],
   "source": [
    "cost=12.34567890"
   ]
  },
  {
   "cell_type": "code",
   "execution_count": 116,
   "metadata": {
    "collapsed": false
   },
   "outputs": [
    {
     "name": "stdout",
     "output_type": "stream",
     "text": [
      "prodcut cost: 12\n"
     ]
    }
   ],
   "source": [
    "print \"prodcut cost: %d\"%cost"
   ]
  },
  {
   "cell_type": "code",
   "execution_count": 117,
   "metadata": {
    "collapsed": false
   },
   "outputs": [
    {
     "name": "stdout",
     "output_type": "stream",
     "text": [
      "prodcut cost: 12.345679\n"
     ]
    }
   ],
   "source": [
    "print \"prodcut cost: %f\"%cost"
   ]
  },
  {
   "cell_type": "code",
   "execution_count": 118,
   "metadata": {
    "collapsed": false
   },
   "outputs": [
    {
     "name": "stdout",
     "output_type": "stream",
     "text": [
      "prodcut cost: 12.35\n"
     ]
    }
   ],
   "source": [
    "print \"prodcut cost: %.2f\"%cost"
   ]
  },
  {
   "cell_type": "code",
   "execution_count": 125,
   "metadata": {
    "collapsed": false
   },
   "outputs": [
    {
     "name": "stdout",
     "output_type": "stream",
     "text": [
      "12.3456078933\n",
      "prodcut cost: 12.3456078933\n"
     ]
    }
   ],
   "source": [
    "cost=12.345607893264325324123423\n",
    "print str(cost)\n",
    "print \"prodcut cost: %s\"%cost"
   ]
  },
  {
   "cell_type": "code",
   "execution_count": 126,
   "metadata": {
    "collapsed": false
   },
   "outputs": [
    {
     "name": "stdout",
     "output_type": "stream",
     "text": [
      "cost 12.3456078933\n"
     ]
    }
   ],
   "source": [
    "print \"cost\",cost"
   ]
  },
  {
   "cell_type": "code",
   "execution_count": 128,
   "metadata": {
    "collapsed": false
   },
   "outputs": [
    {
     "name": "stdout",
     "output_type": "stream",
     "text": [
      "12.3456078933\n"
     ]
    }
   ],
   "source": [
    "print cost"
   ]
  },
  {
   "cell_type": "code",
   "execution_count": 129,
   "metadata": {
    "collapsed": false
   },
   "outputs": [
    {
     "name": "stdout",
     "output_type": "stream",
     "text": [
      "1234567890243342\n"
     ]
    }
   ],
   "source": [
    "cost=1234567890243342\n",
    "print cost"
   ]
  },
  {
   "cell_type": "code",
   "execution_count": 130,
   "metadata": {
    "collapsed": false
   },
   "outputs": [
    {
     "name": "stdout",
     "output_type": "stream",
     "text": [
      "12.34567891234567890\n"
     ]
    }
   ],
   "source": [
    "cost = '12.34567891234567890'\n",
    "print cost"
   ]
  },
  {
   "cell_type": "code",
   "execution_count": 131,
   "metadata": {
    "collapsed": false
   },
   "outputs": [
    {
     "name": "stdout",
     "output_type": "stream",
     "text": [
      "2322\n"
     ]
    }
   ],
   "source": [
    "a=1234\n",
    "print \"%o\"%a"
   ]
  },
  {
   "cell_type": "code",
   "execution_count": 132,
   "metadata": {
    "collapsed": false
   },
   "outputs": [
    {
     "ename": "ValueError",
     "evalue": "unsupported format character 'b' (0x62) at index 1",
     "output_type": "error",
     "traceback": [
      "\u001b[0;31m---------------------------------------------------------------------------\u001b[0m",
      "\u001b[0;31mValueError\u001b[0m                                Traceback (most recent call last)",
      "\u001b[0;32m<ipython-input-132-6fd0b6193711>\u001b[0m in \u001b[0;36m<module>\u001b[0;34m()\u001b[0m\n\u001b[0;32m----> 1\u001b[0;31m \u001b[0;32mprint\u001b[0m \u001b[0;34m\"%b\"\u001b[0m\u001b[0;34m%\u001b[0m\u001b[0ma\u001b[0m\u001b[0;34m\u001b[0m\u001b[0m\n\u001b[0m",
      "\u001b[0;31mValueError\u001b[0m: unsupported format character 'b' (0x62) at index 1"
     ]
    }
   ],
   "source": [
    "print \"%b\"%a"
   ]
  },
  {
   "cell_type": "code",
   "execution_count": 133,
   "metadata": {
    "collapsed": false
   },
   "outputs": [
    {
     "name": "stdout",
     "output_type": "stream",
     "text": [
      "1.python\n",
      "2.php\n",
      "3.c\n",
      "4.cpp\n"
     ]
    }
   ],
   "source": [
    "'''\n",
    "1.python\n",
    "2.php\n",
    "3.c\n",
    "4.cpp\n",
    "'''\n",
    "print \"1.python\\n2.php\\n3.c\\n4.cpp\"\n"
   ]
  },
  {
   "cell_type": "code",
   "execution_count": 134,
   "metadata": {
    "collapsed": false
   },
   "outputs": [
    {
     "name": "stdout",
     "output_type": "stream",
     "text": [
      "program started\n",
      "1.python\n",
      "2.php\n",
      "3.c\n",
      "4.cpp\n",
      "Enter choice: 1\n",
      "other statements in program\n",
      "program ended\n"
     ]
    }
   ],
   "source": [
    "'''\n",
    "1.python\n",
    "2.php\n",
    "3.c\n",
    "4.cpp\n",
    "'''\n",
    "print \"program started\"\n",
    "print \"1.python\\n2.php\\n3.c\\n4.cpp\"\n",
    "option = raw_input(\"Enter choice: \")\n",
    "if option == 1:\n",
    "    print \"python information\"\n",
    "if option == 2:\n",
    "    print \"php information\"\n",
    "if option == 3:\n",
    "    print \"c information\"\n",
    "if option == 4:\n",
    "    print \"cpp information\"\n",
    "print \"other statements in program\"\n",
    "print \"program ended\""
   ]
  },
  {
   "cell_type": "code",
   "execution_count": 135,
   "metadata": {
    "collapsed": false
   },
   "outputs": [
    {
     "name": "stdout",
     "output_type": "stream",
     "text": [
      "program started\n",
      "1.python\n",
      "2.php\n",
      "3.c\n",
      "4.cpp\n",
      "Enter choice: 1\n",
      "python information\n",
      "other statements in program\n",
      "program ended\n"
     ]
    }
   ],
   "source": [
    "'''\n",
    "1.python\n",
    "2.php\n",
    "3.c\n",
    "4.cpp\n",
    "'''\n",
    "print \"program started\"\n",
    "print \"1.python\\n2.php\\n3.c\\n4.cpp\"\n",
    "option = raw_input(\"Enter choice: \")\n",
    "if option == '1':\n",
    "    print \"python information\"\n",
    "if option == '2':\n",
    "    print \"php information\"\n",
    "if option == '3':\n",
    "    print \"c information\"\n",
    "if option == '4':\n",
    "    print \"cpp information\"\n",
    "print \"other statements in program\"\n",
    "print \"program ended\""
   ]
  },
  {
   "cell_type": "code",
   "execution_count": 136,
   "metadata": {
    "collapsed": false
   },
   "outputs": [
    {
     "name": "stdout",
     "output_type": "stream",
     "text": [
      "program started\n",
      "1.python\n",
      "2.php\n",
      "3.c\n",
      "4.cpp\n",
      "Enter choice: 2\n",
      "php information\n",
      "other statements in program\n",
      "program ended\n"
     ]
    }
   ],
   "source": [
    "'''\n",
    "1.python\n",
    "2.php\n",
    "3.c\n",
    "4.cpp\n",
    "'''\n",
    "print \"program started\"\n",
    "print \"1.python\\n2.php\\n3.c\\n4.cpp\"\n",
    "option = raw_input(\"Enter choice: \")\n",
    "if option == '1':\n",
    "    print \"python information\"\n",
    "if option == '2':\n",
    "    print \"php information\"\n",
    "if option == '3':\n",
    "    print \"c information\"\n",
    "if option == '4':\n",
    "    print \"cpp information\"\n",
    "print \"other statements in program\"\n",
    "print \"program ended\""
   ]
  },
  {
   "cell_type": "code",
   "execution_count": 137,
   "metadata": {
    "collapsed": false
   },
   "outputs": [
    {
     "name": "stdout",
     "output_type": "stream",
     "text": [
      "program started\n",
      "1.python\n",
      "2.php\n",
      "3.c\n",
      "4.cpp\n",
      "Enter choice: 3\n",
      "c information\n",
      "other statements in program\n",
      "program ended\n"
     ]
    }
   ],
   "source": [
    "'''\n",
    "1.python\n",
    "2.php\n",
    "3.c\n",
    "4.cpp\n",
    "'''\n",
    "print \"program started\"\n",
    "print \"1.python\\n2.php\\n3.c\\n4.cpp\"\n",
    "option = raw_input(\"Enter choice: \")\n",
    "if option == '1':\n",
    "    print \"python information\"\n",
    "if option == '2':\n",
    "    print \"php information\"\n",
    "if option == '3':\n",
    "    print \"c information\"\n",
    "if option == '4':\n",
    "    print \"cpp information\"\n",
    "print \"other statements in program\"\n",
    "print \"program ended\""
   ]
  },
  {
   "cell_type": "code",
   "execution_count": 138,
   "metadata": {
    "collapsed": false
   },
   "outputs": [
    {
     "name": "stdout",
     "output_type": "stream",
     "text": [
      "program started\n",
      "1.python\n",
      "2.php\n",
      "3.c\n",
      "4.cpp\n",
      "Enter choice: 4\n",
      "cpp information\n",
      "other statements in program\n",
      "program ended\n"
     ]
    }
   ],
   "source": [
    "'''\n",
    "1.python\n",
    "2.php\n",
    "3.c\n",
    "4.cpp\n",
    "'''\n",
    "print \"program started\"\n",
    "print \"1.python\\n2.php\\n3.c\\n4.cpp\"\n",
    "option = raw_input(\"Enter choice: \")\n",
    "if option == '1':\n",
    "    print \"python information\"\n",
    "if option == '2':\n",
    "    print \"php information\"\n",
    "if option == '3':\n",
    "    print \"c information\"\n",
    "if option == '4':\n",
    "    print \"cpp information\"\n",
    "print \"other statements in program\"\n",
    "print \"program ended\""
   ]
  },
  {
   "cell_type": "code",
   "execution_count": 139,
   "metadata": {
    "collapsed": false
   },
   "outputs": [
    {
     "name": "stdout",
     "output_type": "stream",
     "text": [
      "program started\n",
      "1.python\n",
      "2.php\n",
      "3.c\n",
      "4.cpp\n",
      "Enter choice: 5\n",
      "other statements in program\n",
      "program ended\n"
     ]
    }
   ],
   "source": [
    "'''\n",
    "1.python\n",
    "2.php\n",
    "3.c\n",
    "4.cpp\n",
    "'''\n",
    "print \"program started\"\n",
    "print \"1.python\\n2.php\\n3.c\\n4.cpp\"\n",
    "option = raw_input(\"Enter choice: \")\n",
    "if option == '1':\n",
    "    print \"python information\"\n",
    "if option == '2':\n",
    "    print \"php information\"\n",
    "if option == '3':\n",
    "    print \"c information\"\n",
    "if option == '4':\n",
    "    print \"cpp information\"\n",
    "print \"other statements in program\"\n",
    "print \"program ended\""
   ]
  },
  {
   "cell_type": "code",
   "execution_count": 140,
   "metadata": {
    "collapsed": false
   },
   "outputs": [
    {
     "name": "stdout",
     "output_type": "stream",
     "text": [
      "program started\n",
      "1.python\n",
      "2.php\n",
      "3.c\n",
      "4.cpp\n",
      "Enter choice: 5\n",
      "wrong option\n",
      "other statements in program\n",
      "program ended\n"
     ]
    }
   ],
   "source": [
    "'''\n",
    "1.python\n",
    "2.php\n",
    "3.c\n",
    "4.cpp\n",
    "'''\n",
    "print \"program started\"\n",
    "print \"1.python\\n2.php\\n3.c\\n4.cpp\"\n",
    "option = raw_input(\"Enter choice: \")\n",
    "if option == '1':\n",
    "    print \"python information\"\n",
    "if option == '2':\n",
    "    print \"php information\"\n",
    "if option == '3':\n",
    "    print \"c information\"\n",
    "if option == '4':\n",
    "    print \"cpp information\"\n",
    "else:\n",
    "    print \"wrong option\"\n",
    "print \"other statements in program\"\n",
    "print \"program ended\""
   ]
  },
  {
   "cell_type": "code",
   "execution_count": 141,
   "metadata": {
    "collapsed": false
   },
   "outputs": [
    {
     "name": "stdout",
     "output_type": "stream",
     "text": [
      "program started\n",
      "1.python\n",
      "2.php\n",
      "3.c\n",
      "4.cpp\n",
      "Enter choice: 2\n",
      "php information\n",
      "wrong option\n",
      "other statements in program\n",
      "program ended\n"
     ]
    }
   ],
   "source": [
    "'''\n",
    "1.python\n",
    "2.php\n",
    "3.c\n",
    "4.cpp\n",
    "'''\n",
    "print \"program started\"\n",
    "print \"1.python\\n2.php\\n3.c\\n4.cpp\"\n",
    "option = raw_input(\"Enter choice: \")\n",
    "if option == '1':\n",
    "    print \"python information\"\n",
    "if option == '2':\n",
    "    print \"php information\"\n",
    "if option == '3':\n",
    "    print \"c information\"\n",
    "if option == '4':\n",
    "    print \"cpp information\"\n",
    "else:\n",
    "    print \"wrong option\"\n",
    "print \"other statements in program\"\n",
    "print \"program ended\""
   ]
  },
  {
   "cell_type": "code",
   "execution_count": 142,
   "metadata": {
    "collapsed": false
   },
   "outputs": [
    {
     "name": "stdout",
     "output_type": "stream",
     "text": [
      "program started\n",
      "1.python\n",
      "2.php\n",
      "3.c\n",
      "4.cpp\n",
      "Enter choice: 5\n",
      "wrong option\n",
      "other statements in program\n",
      "program ended\n"
     ]
    }
   ],
   "source": [
    "'''\n",
    "1.python\n",
    "2.php\n",
    "3.c\n",
    "4.cpp\n",
    "'''\n",
    "print \"program started\"\n",
    "print \"1.python\\n2.php\\n3.c\\n4.cpp\"\n",
    "option = raw_input(\"Enter choice: \")\n",
    "if option == '1':\n",
    "    print \"python information\"\n",
    "elif option == '2':\n",
    "    print \"php information\"\n",
    "elif option == '3':\n",
    "    print \"c information\"\n",
    "elif option == '4':\n",
    "    print \"cpp information\"\n",
    "else:\n",
    "    print \"wrong option\"\n",
    "print \"other statements in program\"\n",
    "print \"program ended\""
   ]
  },
  {
   "cell_type": "code",
   "execution_count": 143,
   "metadata": {
    "collapsed": false
   },
   "outputs": [
    {
     "name": "stdout",
     "output_type": "stream",
     "text": [
      "program started\n",
      "1.python\n",
      "2.php\n",
      "3.c\n",
      "4.cpp\n",
      "Enter choice: 3\n",
      "c information\n",
      "other statements in program\n",
      "program ended\n"
     ]
    }
   ],
   "source": [
    "'''\n",
    "1.python\n",
    "2.php\n",
    "3.c\n",
    "4.cpp\n",
    "'''\n",
    "print (\"program started\")\n",
    "print \"1.python\\n2.php\\n3.c\\n4.cpp\"\n",
    "option = raw_input(\"Enter choice: \")\n",
    "if option == '1':\n",
    "    print \"python information\"\n",
    "elif option == '2':\n",
    "    print \"php information\"\n",
    "elif option == '3':\n",
    "    print \"c information\"\n",
    "elif option == '4':\n",
    "    print \"cpp information\"\n",
    "else:\n",
    "    print \"wrong option\"\n",
    "print \"other statements in program\"\n",
    "print \"program ended\""
   ]
  },
  {
   "cell_type": "code",
   "execution_count": null,
   "metadata": {
    "collapsed": true
   },
   "outputs": [],
   "source": [
    "# while for\n",
    "print \"program started\"\n",
    "i=0\n",
    "while i<10:\n",
    "    print \"iteration stared\"\n",
    "    print i\n",
    "    print \"iteration ended\"\n",
    "print \"other statement in program \"\n",
    "print \"rogram ended\""
   ]
  },
  {
   "cell_type": "code",
   "execution_count": 144,
   "metadata": {
    "collapsed": false
   },
   "outputs": [
    {
     "name": "stdout",
     "output_type": "stream",
     "text": [
      "program started\n",
      "iteration stared\n",
      "0\n",
      "iteration ended\n",
      "iteration stared\n",
      "1\n",
      "iteration ended\n",
      "iteration stared\n",
      "2\n",
      "iteration ended\n",
      "iteration stared\n",
      "3\n",
      "iteration ended\n",
      "iteration stared\n",
      "4\n",
      "iteration ended\n",
      "iteration stared\n",
      "5\n",
      "iteration ended\n",
      "iteration stared\n",
      "6\n",
      "iteration ended\n",
      "iteration stared\n",
      "7\n",
      "iteration ended\n",
      "iteration stared\n",
      "8\n",
      "iteration ended\n",
      "iteration stared\n",
      "9\n",
      "iteration ended\n",
      "other statement in program \n",
      "rogram ended\n"
     ]
    }
   ],
   "source": [
    "# while for\n",
    "print \"program started\"\n",
    "i=0\n",
    "while i<10:\n",
    "    print \"iteration stared\"\n",
    "    print i\n",
    "    i=i+1\n",
    "    print \"iteration ended\"\n",
    "print \"other statement in program \"\n",
    "print \"rogram ended\""
   ]
  },
  {
   "cell_type": "code",
   "execution_count": 145,
   "metadata": {
    "collapsed": false
   },
   "outputs": [
    {
     "ename": "SyntaxError",
     "evalue": "invalid syntax (<ipython-input-145-ca6a130f6125>, line 7)",
     "output_type": "error",
     "traceback": [
      "\u001b[0;36m  File \u001b[0;32m\"<ipython-input-145-ca6a130f6125>\"\u001b[0;36m, line \u001b[0;32m7\u001b[0m\n\u001b[0;31m    i++\u001b[0m\n\u001b[0m       ^\u001b[0m\n\u001b[0;31mSyntaxError\u001b[0m\u001b[0;31m:\u001b[0m invalid syntax\n"
     ]
    }
   ],
   "source": [
    "# while for\n",
    "print \"program started\"\n",
    "i=0\n",
    "while i<10:\n",
    "    print \"iteration stared\"\n",
    "    print i\n",
    "    i++\n",
    "    print \"iteration ended\"\n",
    "print \"other statement in program \"\n",
    "print \"rogram ended\""
   ]
  },
  {
   "cell_type": "code",
   "execution_count": 146,
   "metadata": {
    "collapsed": false
   },
   "outputs": [
    {
     "name": "stdout",
     "output_type": "stream",
     "text": [
      "program started\n",
      "iteration stared\n",
      "0\n",
      "iteration ended\n",
      "iteration stared\n",
      "1\n",
      "iteration ended\n",
      "iteration stared\n",
      "2\n",
      "iteration ended\n",
      "iteration stared\n",
      "3\n",
      "iteration ended\n",
      "iteration stared\n",
      "4\n",
      "iteration ended\n",
      "iteration stared\n",
      "5\n",
      "iteration ended\n",
      "iteration stared\n",
      "6\n",
      "iteration ended\n",
      "iteration stared\n",
      "7\n",
      "iteration ended\n",
      "iteration stared\n",
      "8\n",
      "iteration ended\n",
      "iteration stared\n",
      "9\n",
      "iteration ended\n",
      "other statement in program \n",
      "rogram ended\n"
     ]
    }
   ],
   "source": [
    "# while for\n",
    "print \"program started\"\n",
    "i=0\n",
    "while i<10:\n",
    "    print \"iteration stared\"\n",
    "    print i\n",
    "    i+=1\n",
    "    print \"iteration ended\"\n",
    "print \"other statement in program \"\n",
    "print \"rogram ended\""
   ]
  },
  {
   "cell_type": "code",
   "execution_count": 147,
   "metadata": {
    "collapsed": false
   },
   "outputs": [
    {
     "name": "stdout",
     "output_type": "stream",
     "text": [
      "program started\n",
      "iteration stared\n",
      "0\n",
      "iteration ended\n",
      "iteration stared\n",
      "1\n",
      "iteration ended\n",
      "iteration stared\n",
      "2\n",
      "iteration ended\n",
      "other statement in program \n",
      "rogram ended\n"
     ]
    }
   ],
   "source": [
    "# while for\n",
    "print \"program started\"\n",
    "i=0\n",
    "while i<3:\n",
    "    print \"iteration stared\"\n",
    "    print i\n",
    "    i=i+1\n",
    "    print \"iteration ended\"\n",
    "print \"other statement in program \"\n",
    "print \"rogram ended\""
   ]
  },
  {
   "cell_type": "code",
   "execution_count": 148,
   "metadata": {
    "collapsed": false
   },
   "outputs": [
    {
     "name": "stdout",
     "output_type": "stream",
     "text": [
      "program started\n",
      "iteration stared\n",
      "0\n",
      "iteration ended\n",
      "iteration stared\n",
      "1\n",
      "iteration ended\n",
      "iteration stared\n",
      "2\n",
      "iteration ended\n",
      "i out side while: 3\n",
      "other statement in program \n",
      "rogram ended\n"
     ]
    }
   ],
   "source": [
    "# while for\n",
    "print \"program started\"\n",
    "i=0\n",
    "while i<3:\n",
    "    print \"iteration stared\"\n",
    "    print i\n",
    "    i=i+1\n",
    "    print \"iteration ended\"\n",
    "print \"i out side while:\",i\n",
    "print \"other statement in program \"\n",
    "print \"rogram ended\""
   ]
  },
  {
   "cell_type": "code",
   "execution_count": 149,
   "metadata": {
    "collapsed": false
   },
   "outputs": [
    {
     "data": {
      "text/plain": [
       "True"
      ]
     },
     "execution_count": 149,
     "metadata": {},
     "output_type": "execute_result"
    }
   ],
   "source": [
    "\"str\" in \"str1str2str3\""
   ]
  },
  {
   "cell_type": "code",
   "execution_count": 150,
   "metadata": {
    "collapsed": false
   },
   "outputs": [
    {
     "data": {
      "text/plain": [
       "True"
      ]
     },
     "execution_count": 150,
     "metadata": {},
     "output_type": "execute_result"
    }
   ],
   "source": [
    "1 in [1,2,2,3,4]"
   ]
  },
  {
   "cell_type": "code",
   "execution_count": 151,
   "metadata": {
    "collapsed": false
   },
   "outputs": [
    {
     "data": {
      "text/plain": [
       "False"
      ]
     },
     "execution_count": 151,
     "metadata": {},
     "output_type": "execute_result"
    }
   ],
   "source": [
    "1 in (2,3,4,5)"
   ]
  },
  {
   "cell_type": "code",
   "execution_count": 152,
   "metadata": {
    "collapsed": false
   },
   "outputs": [
    {
     "data": {
      "text/plain": [
       "True"
      ]
     },
     "execution_count": 152,
     "metadata": {},
     "output_type": "execute_result"
    }
   ],
   "source": [
    "1 in {1:2,3:4,5:6}"
   ]
  },
  {
   "cell_type": "code",
   "execution_count": 153,
   "metadata": {
    "collapsed": false
   },
   "outputs": [
    {
     "name": "stdout",
     "output_type": "stream",
     "text": [
      "program started\n",
      "iteration started\n",
      "a\n",
      "iter\n",
      "iteration started\n",
      "b\n",
      "iter\n",
      "iteration started\n",
      "c\n",
      "iter\n",
      "i out side while: c\n",
      "other statement in program \n",
      "rogram ended\n"
     ]
    }
   ],
   "source": [
    "# while for\n",
    "print \"program started\"\n",
    "for i in \"abc\":\n",
    "    print \"iteration started\"\n",
    "    print i\n",
    "    print \"iter\"\n",
    "print \"i out side while:\",i\n",
    "print \"other statement in program \"\n",
    "print \"rogram ended\""
   ]
  },
  {
   "cell_type": "code",
   "execution_count": 154,
   "metadata": {
    "collapsed": false
   },
   "outputs": [
    {
     "name": "stdout",
     "output_type": "stream",
     "text": [
      "program started\n",
      "iteration started\n",
      "b\n",
      "iter\n",
      "iteration started\n",
      "c\n",
      "iter\n",
      "i out side while: c\n",
      "other statement in program \n",
      "rogram ended\n"
     ]
    }
   ],
   "source": [
    "# while for\n",
    "print \"program started\"\n",
    "s=\"abc\"\n",
    "for i in s[1:]:\n",
    "    print \"iteration started\"\n",
    "    print i\n",
    "    print \"iter\"\n",
    "print \"i out side while:\",i\n",
    "print \"other statement in program \"\n",
    "print \"rogram ended\""
   ]
  },
  {
   "cell_type": "code",
   "execution_count": 155,
   "metadata": {
    "collapsed": false
   },
   "outputs": [
    {
     "name": "stdout",
     "output_type": "stream",
     "text": [
      "program started\n",
      "iteration started\n",
      "a\n",
      "iter\n",
      "iteration started\n",
      "b\n",
      "iter\n",
      "iteration started\n",
      "c\n",
      "iter\n",
      "i out side while: c\n",
      "other statement in program \n",
      "rogram ended\n"
     ]
    }
   ],
   "source": [
    "# while for\n",
    "print \"program started\"\n",
    "s=\"abc\"\n",
    "for i in s:\n",
    "    print \"iteration started\"\n",
    "    print i\n",
    "    print \"iter\"\n",
    "print \"i out side while:\",i\n",
    "print \"other statement in program \"\n",
    "print \"rogram ended\""
   ]
  },
  {
   "cell_type": "code",
   "execution_count": 156,
   "metadata": {
    "collapsed": false
   },
   "outputs": [
    {
     "name": "stdout",
     "output_type": "stream",
     "text": [
      "program started\n",
      "iteration started\n",
      "a\n",
      "iter\n",
      "iteration started\n",
      "b\n",
      "iter\n",
      "iteration started\n",
      "c\n",
      "iter\n",
      "i out side while: c\n",
      "other statement in program \n",
      "rogram ended\n"
     ]
    }
   ],
   "source": [
    "# while for\n",
    "print \"program started\"\n",
    "s=\"abc\"\n",
    "i=1\n",
    "for i in s:\n",
    "    print \"iteration started\"\n",
    "    print i\n",
    "    print \"iter\"\n",
    "print \"i out side while:\",i\n",
    "print \"other statement in program \"\n",
    "print \"rogram ended\""
   ]
  },
  {
   "cell_type": "code",
   "execution_count": null,
   "metadata": {
    "collapsed": true
   },
   "outputs": [],
   "source": [
    "# take the numbr from the user check whether it is less than 100\n",
    "# take two numbers and print big number\n",
    "# take three numbers and print big number\n",
    "# take a number print whether it is even or odd\n",
    "# take a number and check whether it si prime or not."
   ]
  }
 ],
 "metadata": {
  "kernelspec": {
   "display_name": "Python 2",
   "language": "python",
   "name": "python2"
  },
  "language_info": {
   "codemirror_mode": {
    "name": "ipython",
    "version": 2
   },
   "file_extension": ".py",
   "mimetype": "text/x-python",
   "name": "python",
   "nbconvert_exporter": "python",
   "pygments_lexer": "ipython2",
   "version": "2.7.13"
  }
 },
 "nbformat": 4,
 "nbformat_minor": 2
}
